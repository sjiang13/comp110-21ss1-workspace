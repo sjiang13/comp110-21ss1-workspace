{
 "metadata": {
  "language_info": {
   "codemirror_mode": {
    "name": "ipython",
    "version": 3
   },
   "file_extension": ".py",
   "mimetype": "text/x-python",
   "name": "python",
   "nbconvert_exporter": "python",
   "pygments_lexer": "ipython3",
   "version": "3.9.1"
  },
  "orig_nbformat": 2,
  "kernelspec": {
   "name": "python391jvsc74a57bd0e7a26f5bebd1b9da0f051359361ac514eb1c970e7ede8197699eeb788ac44870",
   "display_name": "Python 3.9.1 64-bit ('3.9')"
  },
  "metadata": {
   "interpreter": {
    "hash": "e7a26f5bebd1b9da0f051359361ac514eb1c970e7ede8197699eeb788ac44870"
   }
  }
 },
 "nbformat": 4,
 "nbformat_minor": 2,
 "cells": [
  {
   "source": [
    "# My first notebook\n",
    "This cell renders as _rich_ formatted text when it is evaluated. In order to make a markdown cell, click the M-down arrow or the + Markdown (depending on version)\n"
   ],
   "cell_type": "markdown",
   "metadata": {}
  },
  {
   "source": [
    "## Subheadings\n",
    "* bulleted lists with stars\n",
    "* **bolded text**\n",
    "* [links to webpages](21ss1.comp110.com)"
   ],
   "cell_type": "markdown",
   "metadata": {}
  },
  {
   "source": [
    "## Keyboard shortcuts to know\n",
    "` Control + Enter ` - Evaluates the current cell, keeps the focus here\n",
    "` Shift + Enter ` - Evaluates the current cell, moves focus forward"
   ],
   "cell_type": "markdown",
   "metadata": {}
  },
  {
   "source": [
    "name: str = \"Kaki\"\n",
    "print(f\"Hello {name}\")"
   ],
   "cell_type": "code",
   "metadata": {},
   "execution_count": 4,
   "outputs": [
    {
     "output_type": "stream",
     "name": "stdout",
     "text": [
      "Hello Kaki\n"
     ]
    }
   ]
  }
 ]
}